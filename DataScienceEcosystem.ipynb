{
 "cells": [
  {
   "cell_type": "markdown",
   "id": "62e5b160-be07-4f8f-80b9-5bc65733da20",
   "metadata": {},
   "source": [
    "# Data Science Tools and Ecosystem"
   ]
  },
  {
   "cell_type": "code",
   "execution_count": null,
   "id": "4f1f6c27-09db-499c-b4cc-2c80438f5e7d",
   "metadata": {},
   "outputs": [],
   "source": []
  },
  {
   "cell_type": "markdown",
   "id": "979bfad6-d957-43da-a71a-c6e772a7c990",
   "metadata": {},
   "source": [
    "En este cuaderno, se resumen las herramientas y ecosistemas de ciencia de datos."
   ]
  },
  {
   "cell_type": "markdown",
   "id": "5398e11d-3bf3-4f81-b43e-2e223acab6ad",
   "metadata": {},
   "source": [
    "**Objetivos:**\n",
    "* Listar lenguajes populares para Ciencia de Datos\n",
    "* Mencionar bibliotecas comunes utilizadas en la Ciencia de Datos\n",
    "* Crear tablas con herramientas de código abierto\n",
    "* Realizar conversiones de unidades y expresiones aritméticas"
   ]
  },
  {
   "cell_type": "code",
   "execution_count": null,
   "id": "efca037b-7f34-422e-9dbb-bf0dbaf574ef",
   "metadata": {},
   "outputs": [],
   "source": []
  },
  {
   "cell_type": "markdown",
   "id": "66121fec-5630-4e0c-8821-f24b4487c976",
   "metadata": {},
   "source": [
    "Algunos de los lenguajes populares que utilizan los científicos de datos son:\n",
    "1. Python\n",
    "2. R\n",
    "3. SQL\n",
    "4. Scala\n",
    "5. Julia"
   ]
  },
  {
   "cell_type": "code",
   "execution_count": null,
   "id": "ba12c675-17b3-43ab-bbb1-9d7029b4bf17",
   "metadata": {},
   "outputs": [],
   "source": []
  },
  {
   "cell_type": "markdown",
   "id": "41562a83-59ce-4258-b334-1ea35aad97e7",
   "metadata": {},
   "source": [
    "Algunas de las bibliotecas comúnmente utilizadas por los científicos de datos incluyen:\n",
    "1. Pandas\n",
    "2. NumPy\n",
    "3. Matplotlib\n",
    "4. Scikit-learn\n",
    "5. TensorFlow"
   ]
  },
  {
   "cell_type": "code",
   "execution_count": null,
   "id": "b6625b4b-7bbb-44e0-8879-ae45e39289a7",
   "metadata": {},
   "outputs": [],
   "source": []
  },
  {
   "cell_type": "markdown",
   "id": "ef4ebd83-67a6-43e2-aaef-571b116f39b0",
   "metadata": {},
   "source": [
    "| Herramientas de Ciencia de Datos |\n",
    "|---------------------------------|\n",
    "| Jupyter Notebooks               |\n",
    "| RStudio                         |\n",
    "| Apache Zeppelin                 |"
   ]
  },
  {
   "cell_type": "code",
   "execution_count": null,
   "id": "648e9f13-0065-4b4b-bded-468c7f69ee0c",
   "metadata": {},
   "outputs": [],
   "source": []
  },
  {
   "cell_type": "markdown",
   "id": "5f2c3981-de21-4fc2-99a4-163066296941",
   "metadata": {},
   "source": [
    "### A continuación, se presentan algunos ejemplos de evaluación de expresiones aritméticas en Python."
   ]
  },
  {
   "cell_type": "code",
   "execution_count": 1,
   "id": "ad37bdbf-4fdc-4e6f-8d4e-b5354a58a94c",
   "metadata": {},
   "outputs": [
    {
     "data": {
      "text/plain": [
       "17"
      ]
     },
     "execution_count": 1,
     "metadata": {},
     "output_type": "execute_result"
    }
   ],
   "source": [
    "# Esta es una expresión aritmética simple para multiplicar y luego sumar enteros.\n",
    "(3 * 4) + 5"
   ]
  },
  {
   "cell_type": "code",
   "execution_count": 2,
   "id": "14b30bfc-c2bf-4e55-a543-318f9e23fdaa",
   "metadata": {},
   "outputs": [
    {
     "data": {
      "text/plain": [
       "3.3333333333333335"
      ]
     },
     "execution_count": 2,
     "metadata": {},
     "output_type": "execute_result"
    }
   ],
   "source": [
    "# Esto convertirá 200 minutos a horas dividiendo por 60.\n",
    "200 / 60"
   ]
  },
  {
   "cell_type": "markdown",
   "id": "7060c61c-ceec-4f02-9ea9-d233a70b3465",
   "metadata": {},
   "source": [
    "## Autor\n",
    "Jhared Matias Cáceres"
   ]
  },
  {
   "cell_type": "code",
   "execution_count": null,
   "id": "29b81d25-be6a-4b86-b17c-86a6f31ffd36",
   "metadata": {},
   "outputs": [],
   "source": []
  }
 ],
 "metadata": {
  "kernelspec": {
   "display_name": "anaconda-2024.02-py310",
   "language": "python",
   "name": "conda-env-anaconda-2024.02-py310-py"
  },
  "language_info": {
   "codemirror_mode": {
    "name": "ipython",
    "version": 3
   },
   "file_extension": ".py",
   "mimetype": "text/x-python",
   "name": "python",
   "nbconvert_exporter": "python",
   "pygments_lexer": "ipython3",
   "version": "3.10.14"
  }
 },
 "nbformat": 4,
 "nbformat_minor": 5
}
